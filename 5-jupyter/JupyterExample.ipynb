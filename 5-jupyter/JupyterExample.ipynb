{
 "cells": [
  {
   "cell_type": "markdown",
   "metadata": {},
   "source": [
    "# Jupyter Notebook example"
   ]
  },
  {
   "cell_type": "markdown",
   "metadata": {},
   "source": [
    "Import the required packages"
   ]
  },
  {
   "cell_type": "code",
   "execution_count": null,
   "metadata": {},
   "outputs": [],
   "source": [
    "import numpy as np\n",
    "import keras\n",
    "import matplotlib.pyplot as plt"
   ]
  },
  {
   "cell_type": "markdown",
   "metadata": {},
   "source": [
    "Download the MNIST dataset. This is a commonly used, relatively simple dataset in machine learning.\n",
    "The dataset contains images of handwritten digits(0-9) which shall be classified. This means that an image is presented to an algorithm, which shall determine which digit is written in the image."
   ]
  },
  {
   "cell_type": "code",
   "execution_count": null,
   "metadata": {},
   "outputs": [],
   "source": [
    "from keras.datasets import mnist\n",
    "\n",
    "(train_images, train_labels), (test_images, test_labels) = mnist.load_data()"
   ]
  },
  {
   "cell_type": "markdown",
   "metadata": {},
   "source": [
    "Data preprocessing. We process the data here, so that we can use it in a neural network more efficiently.\n",
    "We have a training set which contains 60000 images with 28x28x1 pixels (grey-scale). The test set contains 10000 images which are used to test the neural network after training."
   ]
  },
  {
   "cell_type": "code",
   "execution_count": null,
   "metadata": {},
   "outputs": [],
   "source": [
    "from keras.utils import to_categorical\n",
    "train_images = np.expand_dims(train_images, axis=3)\n",
    "test_images = np.expand_dims(test_images, axis=3)\n",
    "train_labels = to_categorical(train_labels)\n",
    "test_labels = to_categorical(test_labels)\n",
    "print(train_images.shape)    # (60000, 28, 28, 1)\n",
    "print(train_labels.shape)    # (60000, 10)"
   ]
  },
  {
   "cell_type": "markdown",
   "metadata": {},
   "source": [
    "In this cell, we plot example images from the MNIST dataset to illustrate the dataset better."
   ]
  },
  {
   "cell_type": "code",
   "execution_count": null,
   "metadata": {},
   "outputs": [],
   "source": [
    "plt.figure()\n",
    "ax = plt.subplot(2,3,1)\n",
    "ax.imshow(train_images[0,:,:,0].reshape(28,28),'gray')\n",
    "ax = plt.subplot(2,3,2)\n",
    "ax.imshow(train_images[10000,:,:,0].reshape(28,28),'gray')\n",
    "ax = plt.subplot(2,3,3)\n",
    "ax.imshow(train_images[1,:,:,0].reshape(28,28),'gray')\n",
    "ax = plt.subplot(2,3,4)\n",
    "ax.imshow(train_images[2,:,:,0].reshape(28,28),'gray')\n",
    "ax = plt.subplot(2,3,5)\n",
    "ax.imshow(train_images[3,:,:,0].reshape(28,28),'gray')\n",
    "ax = plt.subplot(2,3,6)\n",
    "ax.imshow(train_images[4,:,:,0].reshape(28,28),'gray')\n",
    "plt.show()"
   ]
  },
  {
   "cell_type": "markdown",
   "metadata": {},
   "source": [
    "Now, we define the neural network in the machine learning library keras. \n",
    "The neural network contains Dense, Convolutional and Pooling layers.\n",
    "In the end, we print a summary of the network architecture."
   ]
  },
  {
   "cell_type": "code",
   "execution_count": null,
   "metadata": {},
   "outputs": [],
   "source": [
    "from keras.layers import Dense, Conv2D, Flatten, MaxPooling2D\n",
    "from keras.models import Sequential\n",
    "model = Sequential()\n",
    "model.add(Conv2D(64, (3, 3), strides=(1, 1), padding='same', activation='relu', input_shape=(28, 28, 1)))\n",
    "model.add(MaxPooling2D(pool_size=(2, 2)))\n",
    "model.add(Conv2D(32, (3, 3), strides=(1, 1), padding='same', activation='relu'))\n",
    "model.add(MaxPooling2D(pool_size=(2, 2)))\n",
    "model.add(Flatten())\n",
    "model.add(Dense(32, activation='relu'))\n",
    "model.add(Dense(10, activation='softmax'))\n",
    "model.summary()"
   ]
  },
  {
   "cell_type": "markdown",
   "metadata": {},
   "source": [
    "Now, the neural network is trained. Since the dataset is relatively easy, this should only take a few minutes depending on your computer."
   ]
  },
  {
   "cell_type": "code",
   "execution_count": null,
   "metadata": {},
   "outputs": [],
   "source": [
    "model.compile(loss='categorical_crossentropy', optimizer='adam', metrics=['accuracy'])\n",
    "history = model.fit(train_images, train_labels,\n",
    "                    batch_size=128,\n",
    "                    epochs=10,\n",
    "                    validation_data=(test_images, test_labels))\n"
   ]
  },
  {
   "cell_type": "markdown",
   "metadata": {},
   "source": [
    "Now, let's print the percentage of correctly classified images from the test set:"
   ]
  },
  {
   "cell_type": "code",
   "execution_count": null,
   "metadata": {},
   "outputs": [],
   "source": [
    "print(f\"Accuracy on the test set: {history.history['accuracy'][0]*100:.4}%\")"
   ]
  },
  {
   "cell_type": "markdown",
   "metadata": {},
   "source": [
    "Now, we present 6 images from the test set to the trained network.\n",
    "Using matplotlib, we plot the images and set the neural network output as title.\n",
    "Now, you can check how the network performs."
   ]
  },
  {
   "cell_type": "code",
   "execution_count": null,
   "metadata": {},
   "outputs": [],
   "source": [
    "prediction = np.argmax(model.predict(test_images[:6,:,:,:]), axis=1)\n",
    "print(prediction)\n",
    "plt.figure()\n",
    "ax = plt.subplot(2,3,1)\n",
    "ax.set_title(prediction[0])\n",
    "ax.imshow(test_images[0,:,:,0].reshape(28,28),'gray')\n",
    "ax = plt.subplot(2,3,2)\n",
    "ax.set_title(prediction[1])\n",
    "ax.imshow(test_images[1,:,:,0].reshape(28,28),'gray')\n",
    "ax = plt.subplot(2,3,3)\n",
    "ax.set_title(prediction[2])\n",
    "ax.imshow(test_images[2,:,:,0].reshape(28,28),'gray')\n",
    "ax = plt.subplot(2,3,4)\n",
    "ax.set_title(prediction[3])\n",
    "ax.imshow(test_images[3,:,:,0].reshape(28,28),'gray')\n",
    "ax = plt.subplot(2,3,5)\n",
    "ax.set_title(prediction[4])\n",
    "ax.imshow(test_images[4,:,:,0].reshape(28,28),'gray')\n",
    "ax = plt.subplot(2,3,6)\n",
    "ax.set_title(prediction[5])\n",
    "ax.imshow(test_images[5,:,:,0].reshape(28,28),'gray')\n",
    "plt.show()"
   ]
  },
  {
   "cell_type": "code",
   "execution_count": null,
   "metadata": {},
   "outputs": [],
   "source": []
  }
 ],
 "metadata": {
  "kernelspec": {
   "display_name": "Python 3",
   "language": "python",
   "name": "python3"
  },
  "language_info": {
   "codemirror_mode": {
    "name": "ipython",
    "version": 3
   },
   "file_extension": ".py",
   "mimetype": "text/x-python",
   "name": "python",
   "nbconvert_exporter": "python",
   "pygments_lexer": "ipython3",
   "version": "3.8.5"
  }
 },
 "nbformat": 4,
 "nbformat_minor": 2
}
